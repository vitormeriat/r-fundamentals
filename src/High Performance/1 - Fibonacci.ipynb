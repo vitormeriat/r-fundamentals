{
 "cells": [
  {
   "cell_type": "code",
   "execution_count": 1,
   "metadata": {
    "collapsed": true
   },
   "outputs": [],
   "source": [
    "# Compute nth Fibonacci number (recursive)\n",
    "fibonacci_rec <- function(n) {\n",
    "    if (n <= 1) {\n",
    "        return(n)\n",
    "    }\n",
    "    return(fibonacci_rec(n - 1) + fibonacci_rec(n - 2))\n",
    "}"
   ]
  },
  {
   "cell_type": "code",
   "execution_count": 2,
   "metadata": {},
   "outputs": [
    {
     "ename": "ERROR",
     "evalue": "Error in library(microbenchmark): there is no package called 'microbenchmark'\n",
     "output_type": "error",
     "traceback": [
      "Error in library(microbenchmark): there is no package called 'microbenchmark'\nTraceback:\n",
      "1. library(microbenchmark)",
      "2. stop(txt, domain = NA)"
     ]
    }
   ],
   "source": [
    "# Benchmark recursive version\n",
    "library(microbenchmark)\n",
    "microbenchmark(fibonacci_rec(25), unit = \"ms\")"
   ]
  },
  {
   "cell_type": "code",
   "execution_count": 3,
   "metadata": {
    "collapsed": true
   },
   "outputs": [],
   "source": [
    "# Compute nth Fibonacci number (sequential)\n",
    "fibonacci_seq <- function(n) {\n",
    "    if (n <= 1) {\n",
    "        return(n)\n",
    "    }\n",
    "    # (n+1)th element of this vector is the nth Fibonacci number\n",
    "    fib <- rep.int(NA_real_, n + 1)\n",
    "    fib[1] <- 0\n",
    "    fib[2] <- 1\n",
    "    for (i in 2:n) {\n",
    "        fib[i + 1] <- fib[i] + fib[i - 1]\n",
    "    }\n",
    "    return(fib[n + 1])\n",
    "}"
   ]
  },
  {
   "cell_type": "code",
   "execution_count": 6,
   "metadata": {},
   "outputs": [
    {
     "ename": "ERROR",
     "evalue": "Error in microbenchmark(fibonacci_seq(25), unit = \"ms\"): could not find function \"microbenchmark\"\n",
     "output_type": "error",
     "traceback": [
      "Error in microbenchmark(fibonacci_seq(25), unit = \"ms\"): could not find function \"microbenchmark\"\nTraceback:\n"
     ]
    }
   ],
   "source": [
    "# Benchmark sequential version\n",
    "microbenchmark(fibonacci_seq(25), unit = \"ms\")\n",
    "\n",
    "# Benchmark using different values of n\n",
    "ns <- round(seq(0L, 50L, 2L))\n",
    "timings <-\n",
    "    matrix(nrow = length(ns), ncol = 2L,\n",
    "           dimnames = list(ns, c(\"Recursive\", \"Sequential\")))\n",
    "# Sequential\n",
    "# Take median of 20 runs\n",
    "for (n in ns) {\n",
    "    print(n)\n",
    "    res <- print(microbenchmark(fibonacci_seq(n),\n",
    "                                unit = \"s\", times = 20L))\n",
    "    timings[as.character(n), \"Sequential\"] <- res$median\n",
    "}\n",
    "# Recursive\n",
    "for (n in ns) {\n",
    "    print(n)\n",
    "    # Run only once for n > 30, since it will take a long time\n",
    "    times <- if (n > 30L) 1L else 10L\n",
    "    res <- print(microbenchmark(fibonacci_rec(n),\n",
    "                                unit = \"s\", times = times))\n",
    "    timings[as.character(n), \"Recursive\"] <- res$median\n",
    "}"
   ]
  },
  {
   "cell_type": "code",
   "execution_count": 5,
   "metadata": {},
   "outputs": [
    {
     "ename": "ERROR",
     "evalue": "Error in plot(ns, timings[, \"Recursive\"], pch = 1, main = \"Computational Complexity for Computing Fibonacci Numbers\", : object 'ns' not found\n",
     "output_type": "error",
     "traceback": [
      "Error in plot(ns, timings[, \"Recursive\"], pch = 1, main = \"Computational Complexity for Computing Fibonacci Numbers\", : object 'ns' not found\nTraceback:\n",
      "1. plot(ns, timings[, \"Recursive\"], pch = 1, main = \"Computational Complexity for Computing Fibonacci Numbers\", \n .     xlab = \"n\", ylab = \"Execution Time (seconds)\")"
     ]
    }
   ],
   "source": [
    "# Plot results\n",
    "plot(ns, timings[, \"Recursive\"], pch = 1,\n",
    "     main = \"Computational Complexity for Computing Fibonacci Numbers\",\n",
    "     xlab = \"n\", ylab = \"Execution Time (seconds)\")\n",
    "points(ns, timings[, \"Sequential\"], pch = 4)\n",
    "legend(\"top\", legend = c(\"Recursive\", \"Sequential\"),\n",
    "       pch = c(1, 4), bty = \"o\", cex = 0.75, horiz = TRUE)"
   ]
  },
  {
   "cell_type": "code",
   "execution_count": null,
   "metadata": {
    "collapsed": true
   },
   "outputs": [],
   "source": []
  }
 ],
 "metadata": {
  "kernelspec": {
   "display_name": "R",
   "language": "R",
   "name": "ir"
  },
  "language_info": {
   "codemirror_mode": "r",
   "file_extension": ".r",
   "mimetype": "text/x-r-source",
   "name": "R",
   "pygments_lexer": "r",
   "version": "3.4.1"
  }
 },
 "nbformat": 4,
 "nbformat_minor": 2
}
