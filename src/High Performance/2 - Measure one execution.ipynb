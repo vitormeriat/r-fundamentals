{
 "cells": [
  {
   "cell_type": "code",
   "execution_count": 1,
   "metadata": {},
   "outputs": [
    {
     "data": {
      "text/plain": [
       "   user  system elapsed \n",
       "   6.09    0.25    6.35 "
      ]
     },
     "metadata": {},
     "output_type": "display_data"
    },
    {
     "ename": "ERROR",
     "evalue": "Error in library(rbenchmark): there is no package called 'rbenchmark'\n",
     "output_type": "error",
     "traceback": [
      "Error in library(rbenchmark): there is no package called 'rbenchmark'\nTraceback:\n",
      "1. library(rbenchmark)",
      "2. stop(txt, domain = NA)"
     ]
    }
   ],
   "source": [
    "# Measure one execution\n",
    "system.time(runif(1e8))\n",
    "\n",
    "# Measure multiple executions\n",
    "library(rbenchmark)\n",
    "bench1 <- benchmark(runif(1e8), replications=10)\n",
    "bench1\n",
    "\n",
    "# Mean execution time per replication\n",
    "within(bench1, {\n",
    "    elapsed.mean <- elapsed/replications\n",
    "    user.self.mean <- user.self/replications\n",
    "    sys.self.mean <- sys.self/replications\n",
    "})\n",
    "\n",
    "# Multiple samples of one execution\n",
    "benchmark(runif(1e8), replications=rep.int(1, 10))\n",
    "\n",
    "# Alternative, maybe more accurate, method\n",
    "library(microbenchmark)\n",
    "microbenchmark(runif(1e8), times=10)"
   ]
  },
  {
   "cell_type": "code",
   "execution_count": null,
   "metadata": {
    "collapsed": true
   },
   "outputs": [],
   "source": []
  }
 ],
 "metadata": {
  "kernelspec": {
   "display_name": "R",
   "language": "R",
   "name": "ir"
  },
  "language_info": {
   "codemirror_mode": "r",
   "file_extension": ".r",
   "mimetype": "text/x-r-source",
   "name": "R",
   "pygments_lexer": "r",
   "version": "3.4.1"
  }
 },
 "nbformat": 4,
 "nbformat_minor": 2
}
