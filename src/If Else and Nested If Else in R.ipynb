{
 "cells": [
  {
   "cell_type": "markdown",
   "metadata": {},
   "source": [
    "The If Else statements are important part of R programming. In this tutorial, we will see various ways to apply conditional statements (If..Else If..Else) in R. In R, there are a lot of powerful packages for data manipulation. In the later part of this tutorial, we will see how IF ELSE statements are used in popular packages.\n",
    "\n",
    "## Sample Data\n",
    "\n",
    "Let's create a sample data to show how to perform IF ELSE function. This data frame would be used further in examples."
   ]
  },
  {
   "cell_type": "code",
   "execution_count": 1,
   "metadata": {
    "collapsed": true
   },
   "outputs": [],
   "source": [
    "set.seed(123)\n",
    "mydata = data.frame(x1 = seq(1,20,by=2),\n",
    "                    x2 = sample(100:200,10,FALSE),\n",
    "                    x3 = LETTERS[1:10])"
   ]
  },
  {
   "cell_type": "code",
   "execution_count": 2,
   "metadata": {},
   "outputs": [
    {
     "ename": "ERROR",
     "evalue": "Error in parse(text = x, srcfile = src): <text>:1:25: unexpected 'if'\n1: ifelse(condition, value if\n                            ^\n",
     "output_type": "error",
     "traceback": [
      "Error in parse(text = x, srcfile = src): <text>:1:25: unexpected 'if'\n1: ifelse(condition, value if\n                            ^\nTraceback:\n"
     ]
    }
   ],
   "source": [
    "ifelse(condition, value if condition is true, value if condition is false)"
   ]
  },
  {
   "cell_type": "code",
   "execution_count": null,
   "metadata": {
    "collapsed": true
   },
   "outputs": [],
   "source": []
  }
 ],
 "metadata": {
  "kernelspec": {
   "display_name": "R",
   "language": "R",
   "name": "ir"
  },
  "language_info": {
   "codemirror_mode": "r",
   "file_extension": ".r",
   "mimetype": "text/x-r-source",
   "name": "R",
   "pygments_lexer": "r",
   "version": "3.4.1"
  }
 },
 "nbformat": 4,
 "nbformat_minor": 2
}
